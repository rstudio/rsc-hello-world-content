{
 "cells": [
  {
   "cell_type": "code",
   "execution_count": 2,
   "metadata": {},
   "outputs": [],
   "source": [
    "import grp\n",
    "import os\n",
    "import platform\n",
    "import pwd\n",
    "import sys\n",
    "from pprint import pprint\n",
    "from datetime import datetime"
   ]
  },
  {
   "cell_type": "code",
   "execution_count": 3,
   "metadata": {},
   "outputs": [
    {
     "data": {
      "text/plain": [
       "'2018-09-24 14:33:19.734493'"
      ]
     },
     "execution_count": 3,
     "metadata": {},
     "output_type": "execute_result"
    }
   ],
   "source": [
    "datetime.now().isoformat(' ')"
   ]
  },
  {
   "cell_type": "code",
   "execution_count": 4,
   "metadata": {},
   "outputs": [
    {
     "data": {
      "text/plain": [
       "'/home/builder/.conda/envs/py2/bin/python'"
      ]
     },
     "execution_count": 4,
     "metadata": {},
     "output_type": "execute_result"
    }
   ],
   "source": [
    "sys.executable"
   ]
  },
  {
   "cell_type": "code",
   "execution_count": 5,
   "metadata": {},
   "outputs": [
    {
     "data": {
      "text/plain": [
       "'/home/builder/.conda/envs/py2'"
      ]
     },
     "execution_count": 5,
     "metadata": {},
     "output_type": "execute_result"
    }
   ],
   "source": [
    "sys.exec_prefix"
   ]
  },
  {
   "cell_type": "code",
   "execution_count": 6,
   "metadata": {},
   "outputs": [
    {
     "name": "stdout",
     "output_type": "stream",
     "text": [
      "2.7.15 | packaged by conda-forge | (default, Jul 27 2018, 10:26:36) \n",
      "[GCC 4.8.2 20140120 (Red Hat 4.8.2-15)]\n"
     ]
    }
   ],
   "source": [
    "print(sys.version)",
    "print('kevin')"
   ]
  },
  {
   "cell_type": "code",
   "execution_count": 6,
   "metadata": {},
   "outputs": [
    {
     "data": {
      "text/plain": [
       "['',\n",
       " '/notebooks',\n",
       " '/home/builder/.conda/envs/py3/lib/python37.zip',\n",
       " '/home/builder/.conda/envs/py3/lib/python3.7',\n",
       " '/home/builder/.conda/envs/py3/lib/python3.7/lib-dynload',\n",
       " '/home/builder/.conda/envs/py3/lib/python3.7/site-packages',\n",
       " '/rsconnect',\n",
       " '/home/builder/.conda/envs/py3/lib/python3.7/site-packages/nbformat-4.4.0-py3.7.egg',\n",
       " '/home/builder/.conda/envs/py3/lib/python3.7/site-packages/Pygments-2.2.0-py3.7.egg',\n",
       " '/home/builder/.conda/envs/py3/lib/python3.7/site-packages/prompt_toolkit-1.0.15-py3.7.egg',\n",
       " '/home/builder/.conda/envs/py3/lib/python3.7/site-packages/simplegeneric-0.8.1-py3.7.egg',\n",
       " '/home/builder/.conda/envs/py3/lib/python3.7/site-packages/Jinja2-2.10-py3.7.egg',\n",
       " '/home/builder/.conda/envs/py3/lib/python3.7/site-packages/bleach-2.1.4-py3.7.egg',\n",
       " '/home/builder/.conda/envs/py3/lib/python3.7/site-packages/pandocfilters-1.4.2-py3.7.egg',\n",
       " '/home/builder/.conda/envs/py3/lib/python3.7/site-packages/ipython_genutils-0.2.0-py3.7.egg',\n",
       " '/home/builder/.conda/envs/py3/lib/python3.7/site-packages/prometheus_client-0.3.1-py3.7.egg',\n",
       " '/home/builder/.conda/envs/py3/lib/python3.7/site-packages/jupyter_client-5.2.3-py3.7.egg',\n",
       " '/home/builder/.conda/envs/py3/lib/python3.7/site-packages/wcwidth-0.1.7-py3.7.egg',\n",
       " '/home/builder/.conda/envs/py3/lib/python3.7/site-packages/python_dateutil-2.7.3-py3.7.egg',\n",
       " '/home/builder/.conda/envs/py3/lib/python3.7/site-packages/webencodings-0.5.1-py3.7.egg',\n",
       " '/home/builder/.conda/envs/py3/lib/python3.7/site-packages/IPython/extensions',\n",
       " '/home/builder/.ipython']"
      ]
     },
     "execution_count": 6,
     "metadata": {},
     "output_type": "execute_result"
    }
   ],
   "source": [
    "sys.path"
   ]
  },
  {
   "cell_type": "code",
   "execution_count": 7,
   "metadata": {},
   "outputs": [
    {
     "data": {
      "text/plain": [
       "'linux'"
      ]
     },
     "execution_count": 7,
     "metadata": {},
     "output_type": "execute_result"
    }
   ],
   "source": [
    "sys.platform"
   ]
  },
  {
   "cell_type": "code",
   "execution_count": 8,
   "metadata": {},
   "outputs": [
    {
     "data": {
      "text/plain": [
       "posix.uname_result(sysname='Linux', nodename='ea78bbd7e269', release='4.9.93-linuxkit-aufs', version='#1 SMP Wed Jun 6 16:55:56 UTC 2018', machine='x86_64')"
      ]
     },
     "execution_count": 8,
     "metadata": {},
     "output_type": "execute_result"
    }
   ],
   "source": [
    "os.uname()"
   ]
  },
  {
   "cell_type": "code",
   "execution_count": 9,
   "metadata": {},
   "outputs": [
    {
     "data": {
      "text/plain": [
       "'Linux-4.9.93-linuxkit-aufs-x86_64-with-debian-9.4'"
      ]
     },
     "execution_count": 9,
     "metadata": {},
     "output_type": "execute_result"
    }
   ],
   "source": [
    "platform.platform()"
   ]
  },
  {
   "cell_type": "code",
   "execution_count": 10,
   "metadata": {},
   "outputs": [
    {
     "name": "stdout",
     "output_type": "stream",
     "text": [
      "PRETTY_NAME=\"Debian GNU/Linux 9 (stretch)\"\n",
      "NAME=\"Debian GNU/Linux\"\n",
      "VERSION_ID=\"9\"\n",
      "VERSION=\"9 (stretch)\"\n",
      "ID=debian\n",
      "HOME_URL=\"https://www.debian.org/\"\n",
      "SUPPORT_URL=\"https://www.debian.org/support\"\n",
      "BUG_REPORT_URL=\"https://bugs.debian.org/\"\n",
      "\n"
     ]
    }
   ],
   "source": [
    "try:\n",
    "    with open('/etc/os-release') as f:\n",
    "        print(f.read())\n",
    "except Exception as exc:\n",
    "    print(str(exc))"
   ]
  },
  {
   "cell_type": "code",
   "execution_count": 11,
   "metadata": {},
   "outputs": [
    {
     "data": {
      "text/plain": [
       "'utf-8'"
      ]
     },
     "execution_count": 11,
     "metadata": {},
     "output_type": "execute_result"
    }
   ],
   "source": [
    "sys.getdefaultencoding()"
   ]
  },
  {
   "cell_type": "code",
   "execution_count": 12,
   "metadata": {},
   "outputs": [
    {
     "data": {
      "text/plain": [
       "sys.flags(debug=0, inspect=0, interactive=0, optimize=0, dont_write_bytecode=0, no_user_site=0, no_site=0, ignore_environment=0, verbose=0, bytes_warning=0, quiet=0, hash_randomization=1, isolated=0, dev_mode=False, utf8_mode=0)"
      ]
     },
     "execution_count": 12,
     "metadata": {},
     "output_type": "execute_result"
    }
   ],
   "source": [
    "sys.flags"
   ]
  },
  {
   "cell_type": "code",
   "execution_count": 13,
   "metadata": {},
   "outputs": [
    {
     "data": {
      "text/plain": [
       "['_=/usr/bin/make',\n",
       " 'PY_VERSION=3',\n",
       " 'PATH=/home/builder/.conda/envs/py3/bin:/opt/conda/bin:/opt/conda/bin:/usr/local/sbin:/usr/local/bin:/usr/sbin:/usr/bin:/sbin:/bin',\n",
       " 'CONDA_EXE=/opt/conda/bin/conda',\n",
       " 'PWD=/rsconnect',\n",
       " 'HOME=/home/builder',\n",
       " 'CONDA_PROMPT_MODIFIER=(py3) ',\n",
       " 'HOSTNAME=ea78bbd7e269',\n",
       " 'CONDA_DEFAULT_ENV=py3',\n",
       " 'SHLVL=1',\n",
       " 'CONDA_SHLVL=1',\n",
       " 'OLDPWD=/',\n",
       " 'MAKEFLAGS=',\n",
       " 'MFLAGS=',\n",
       " 'MAKE_TERMOUT=/dev/pts/0',\n",
       " 'LC_ALL=C.UTF-8',\n",
       " 'CONDA_PYTHON_EXE=/opt/conda/bin/python',\n",
       " 'NB_GID=20',\n",
       " 'MAKE_TERMERR=/dev/pts/0',\n",
       " 'CONDA_PREFIX=/home/builder/.conda/envs/py3',\n",
       " 'TERM=xterm-color',\n",
       " 'NB_UID=501',\n",
       " 'LANG=C.UTF-8',\n",
       " 'MAKELEVEL=1',\n",
       " 'JPY_PARENT_PID=29',\n",
       " 'CLICOLOR=1',\n",
       " 'PAGER=cat',\n",
       " 'GIT_PAGER=cat',\n",
       " 'MPLBACKEND=module://ipykernel.pylab.backend_inline']"
      ]
     },
     "execution_count": 13,
     "metadata": {},
     "output_type": "execute_result"
    }
   ],
   "source": [
    "list(map(lambda kv: '='.join(kv), os.environ.items()))"
   ]
  },
  {
   "cell_type": "code",
   "execution_count": 14,
   "metadata": {},
   "outputs": [
    {
     "data": {
      "text/plain": [
       "501"
      ]
     },
     "execution_count": 14,
     "metadata": {},
     "output_type": "execute_result"
    }
   ],
   "source": [
    "os.getuid()"
   ]
  },
  {
   "cell_type": "code",
   "execution_count": 15,
   "metadata": {},
   "outputs": [
    {
     "data": {
      "text/plain": [
       "501"
      ]
     },
     "execution_count": 15,
     "metadata": {},
     "output_type": "execute_result"
    }
   ],
   "source": [
    "os.geteuid()"
   ]
  },
  {
   "cell_type": "code",
   "execution_count": 16,
   "metadata": {},
   "outputs": [
    {
     "data": {
      "text/plain": [
       "20"
      ]
     },
     "execution_count": 16,
     "metadata": {},
     "output_type": "execute_result"
    }
   ],
   "source": [
    "os.getgid()"
   ]
  },
  {
   "cell_type": "code",
   "execution_count": 17,
   "metadata": {},
   "outputs": [
    {
     "data": {
      "text/plain": [
       "'builder'"
      ]
     },
     "execution_count": 17,
     "metadata": {},
     "output_type": "execute_result"
    }
   ],
   "source": [
    "username = pwd.getpwuid(os.geteuid()).pw_name\n",
    "username"
   ]
  },
  {
   "cell_type": "code",
   "execution_count": 18,
   "metadata": {},
   "outputs": [
    {
     "data": {
      "text/plain": [
       "'dialout'"
      ]
     },
     "execution_count": 18,
     "metadata": {},
     "output_type": "execute_result"
    }
   ],
   "source": [
    "group_name = grp.getgrgid(os.getgid()).gr_name\n",
    "group_name"
   ]
  },
  {
   "cell_type": "code",
   "execution_count": 19,
   "metadata": {},
   "outputs": [
    {
     "data": {
      "text/plain": [
       "[]"
      ]
     },
     "execution_count": 19,
     "metadata": {},
     "output_type": "execute_result"
    }
   ],
   "source": [
    "group_names = [grp.getgrgid(gid).gr_name for gid in os.getgroups()]\n",
    "group_names"
   ]
  },
  {
   "cell_type": "code",
   "execution_count": 20,
   "metadata": {},
   "outputs": [
    {
     "data": {
      "text/plain": [
       "'/notebooks'"
      ]
     },
     "execution_count": 20,
     "metadata": {},
     "output_type": "execute_result"
    }
   ],
   "source": [
    "cwd = os.getcwd()\n",
    "cwd"
   ]
  },
  {
   "cell_type": "code",
   "execution_count": 21,
   "metadata": {},
   "outputs": [
    {
     "data": {
      "text/plain": [
       "['replace.ipynb',\n",
       " 'histograms.ipynb',\n",
       " 'Untitled5.ipynb',\n",
       " 'Untitled1.ipynb',\n",
       " 'newpy3.ipynb',\n",
       " 'Untitled3.ipynb',\n",
       " 'Untitled.ipynb',\n",
       " 'Untitled4.ipynb',\n",
       " 'saved.ipynb',\n",
       " 'folder',\n",
       " 'Untitled2.ipynb',\n",
       " '.keep',\n",
       " 'graphs.ipynb',\n",
       " 'd.ipynb',\n",
       " 'overwrite.ipynb',\n",
       " 'add.ipynb',\n",
       " 'diagnostic.ipynb',\n",
       " '.ipynb_checkpoints',\n",
       " 'replacermd.ipynb',\n",
       " '1234.ipynb']"
      ]
     },
     "execution_count": 21,
     "metadata": {},
     "output_type": "execute_result"
    }
   ],
   "source": [
    "os.listdir(cwd)"
   ]
  },
  {
   "cell_type": "code",
   "execution_count": 29,
   "metadata": {},
   "outputs": [
    {
     "data": {
      "text/plain": [
       "['asn1crypto 0.24.0',\n",
       " 'backcall 0.1.0',\n",
       " 'bleach 2.1.4',\n",
       " 'certifi 2018.4.16',\n",
       " 'cffi 1.11.5',\n",
       " 'cryptography 2.3',\n",
       " 'cryptography-vectors 2.3',\n",
       " 'decorator 4.3.0',\n",
       " 'entrypoints 0.2.3',\n",
       " 'html5lib 1.0.1',\n",
       " 'idna 2.7',\n",
       " 'ipykernel 4.8.2',\n",
       " 'ipython 6.5.0',\n",
       " 'ipython-genutils 0.2.0',\n",
       " 'jedi 0.12.1',\n",
       " 'Jinja2 2.10',\n",
       " 'jsonschema 2.6.0',\n",
       " 'jupyter 1.0.0',\n",
       " 'jupyter-client 5.2.3',\n",
       " 'jupyter-console 5.2.0',\n",
       " 'jupyter-core 4.4.0',\n",
       " 'MarkupSafe 1.0',\n",
       " 'mistune 0.8.3',\n",
       " 'nbconvert 5.3.1',\n",
       " 'nbformat 4.4.0',\n",
       " 'notebook 5.6.0',\n",
       " 'pandocfilters 1.4.2',\n",
       " 'parso 0.3.1',\n",
       " 'pexpect 4.6.0',\n",
       " 'pickleshare 0.7.4',\n",
       " 'pip 18.0',\n",
       " 'prometheus-client 0.3.1',\n",
       " 'prompt-toolkit 1.0.15',\n",
       " 'ptyprocess 0.6.0',\n",
       " 'Pygments 2.2.0',\n",
       " 'pyOpenSSL 18.0.0',\n",
       " 'python-dateutil 2.7.3',\n",
       " 'pyzmq 17.1.2',\n",
       " 'qtconsole 4.4.1',\n",
       " 'rsconnect 1.1.0.9999',\n",
       " 'Send2Trash 1.5.0',\n",
       " 'setuptools 40.2.0',\n",
       " 'simplegeneric 0.8.1',\n",
       " 'six 1.11.0',\n",
       " 'terminado 0.8.1',\n",
       " 'testpath 0.3.1',\n",
       " 'tornado 5.1',\n",
       " 'traitlets 4.3.2',\n",
       " 'Twisted 18.7.0',\n",
       " 'wcwidth 0.1.7',\n",
       " 'webencodings 0.5.1',\n",
       " 'wheel 0.31.1',\n",
       " 'widgetsnbextension 3.4.1',\n",
       " 'zope.interface 4.5.0']"
      ]
     },
     "execution_count": 29,
     "metadata": {},
     "output_type": "execute_result"
    }
   ],
   "source": [
    "from pkg_resources import Environment\n",
    "env = Environment()\n",
    "sorted([str(env[dist][0]) for dist in env], key=lambda s:s.lower())"
   ]
  },
  {
   "cell_type": "code",
   "execution_count": null,
   "metadata": {},
   "outputs": [],
   "source": []
  }
 ],
 "metadata": {
  "kernelspec": {
   "display_name": "Python 2",
   "language": "python",
   "name": "python2"
  },
  "language_info": {
   "codemirror_mode": {
    "name": "ipython",
    "version": 2
   },
   "file_extension": ".py",
   "mimetype": "text/x-python",
   "name": "python",
   "nbconvert_exporter": "python",
   "pygments_lexer": "ipython2",
   "version": "2.7.15"
  },
  "rsconnect": {
   "previousServerId": "fe3bcc18643ff344c9eaa841e6aaf2c1",
   "servers": {
    "19b05489376d86838de7fdcc8a128bf0": {
     "appId": 75,
     "appMode": "jupyter-static",
     "configUrl": "http://192.168.0.111:3939/connect/#/apps/75",
     "notebookTitle": "diag5",
     "server": "http://192.168.0.111:3939/",
     "serverName": "local"
    },
    "a4c54694d5dadb96264dd47b3040dbda": {
     "appId": 81,
     "appMode": "jupyter-static",
     "configUrl": "http://172.17.0.3:3939/connect/#/apps/81",
     "notebookTitle": "diagnostic2",
     "server": "http://172.17.0.3:3939/",
     "serverName": "local"
    },
    "fe3bcc18643ff344c9eaa841e6aaf2c1": {
     "appId": 88,
     "appMode": "jupyter-static",
     "configUrl": "http://172.17.0.2:3939/connect/#/apps/88",
     "notebookTitle": "diagnostic",
     "server": "http://172.17.0.2:3939/",
     "serverName": "local"
    }
   }
  }
 },
 "nbformat": 4,
 "nbformat_minor": 2
}
